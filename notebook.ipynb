{
 "cells": [
  {
   "cell_type": "code",
   "execution_count": null,
   "metadata": {},
   "outputs": [],
   "source": [
    "from html_parser import HTMLParser\n",
    "from layout import DocumentLayout, paint_tree\n",
    "from browser import Browser\n",
    "from models import Tag\n",
    "from url import URL\n",
    "from css_parser import CSSParser"
   ]
  },
  {
   "cell_type": "code",
   "execution_count": null,
   "metadata": {},
   "outputs": [],
   "source": [
    "class Node:\n",
    "    def __init__(self, data):\n",
    "        self.data = data\n",
    "        self.next = None\n",
    "        self.prev = None\n",
    "            \n",
    "    def __repr__(self):\n",
    "        return f\"{self.data}\"\n",
    "\n",
    "\n",
    "class DoublyLinkedList:\n",
    "    def __init__(self):\n",
    "        self.head = None\n",
    "        self.tail = None\n",
    "        self.length = 0\n",
    "\n",
    "    def __repr__(self):\n",
    "        return str(self.__dict__)\n",
    "\n",
    "    def append(self, data):\n",
    "        new_node = Node(data)\n",
    "        if self.head is None:\n",
    "            self.head = new_node\n",
    "            self.tail = self.head\n",
    "        else:\n",
    "            self.tail.next = new_node\n",
    "            new_node.prev = self.tail\n",
    "            self.tail = new_node\n",
    "        self.length += 1\n",
    "        return self\n",
    "\n",
    "    def prepend(self, data):\n",
    "        new_node = Node(data)\n",
    "        new_node.next = self.head\n",
    "        self.head.prev = new_node\n",
    "        self.head = new_node\n",
    "        self.length += 1\n",
    "        return self\n",
    "\n",
    "    def pretty_print(self):\n",
    "        array = []\n",
    "        current_node = self.head\n",
    "        while current_node:\n",
    "            array.append(current_node)\n",
    "            current_node = current_node.next\n",
    "        return array\n",
    "\n",
    "    def traverse_list(self, index):\n",
    "        node = self.head\n",
    "        for i in range(index):\n",
    "            node = node.next\n",
    "        return node\n",
    "\n",
    "    def insert(self, index, data):\n",
    "        if index >= self.length:\n",
    "            return self.append(data)\n",
    "        if index == 0:\n",
    "            return self.prepend(data)\n",
    "        new_node = Node(data)\n",
    "        prev_node = self.traverse_list(index - 1)\n",
    "        move_node = prev_node.next\n",
    "        new_node.next = move_node  # configure the new node next pointer\n",
    "        new_node.prev = prev_node  # configure the new node previous pointer\n",
    "        prev_node.next = new_node\n",
    "        move_node.prev = new_node\n",
    "        self.length += 1\n",
    "        return self\n",
    "\n",
    "    # def remove(self, index):\n",
    "    #     if index >= self.length:\n",
    "    #         raise IndexError(\"list index out of range\")\n",
    "    #     if index == 0:\n",
    "    #         self.head = self.head.next\n",
    "    #         self.length -= 1\n",
    "    #         return self\n",
    "\n",
    "    #     prev_node = self.traverse_list(index - 1)\n",
    "    #     del_node = prev_node.next\n",
    "    #     prev_node.next = del_node.next\n",
    "    #     prev_node.prev = del_node.prev\n",
    "    #     self.length -= 1\n",
    "    #     return self\n",
    "\n",
    "linkedlist = DoublyLinkedList()\n",
    "linkedlist.append(10)\n",
    "linkedlist.append(5)\n",
    "linkedlist.append(16)\n",
    "linkedlist.prepend(1)\n",
    "linkedlist.insert(1, 6)\n",
    "# linkedlist.remove(3)\n",
    "# linkedlist.print_list()"
   ]
  },
  {
   "cell_type": "code",
   "execution_count": null,
   "metadata": {},
   "outputs": [],
   "source": [
    "body = \"\"\"\n",
    "<!DOCTYPE html>\n",
    "<html>\n",
    "<head>\n",
    "    <title>Sample HTML</title>\n",
    "    <meta charset=\"UTF-8\">\n",
    "    <link rel=\"stylesheet\" href=\"style.css\" />\n",
    "</head>\n",
    "<body\n",
    "    <style  background-color: blue; color: white; font-size: 16px;>\n",
    "    <h1>Welcome to Our Website</h1>\n",
    "    <a href=\"https://www.google.com\"> This is a link </a>\n",
    "    <p>This is a paragraph with some <i>italic text</i>.</p>\n",
    "    <img src=\"logo.png\" alt=\"Our Logo\" />\n",
    "    <br />\n",
    "    <div> This is a div </div>\n",
    "    <div> This is another div </div>\n",
    "    <input type=\"text\" placeholder=\"Enter your name\" />\n",
    "</body>\n",
    "</html>\n",
    "\"\"\""
   ]
  },
  {
   "cell_type": "code",
   "execution_count": null,
   "metadata": {},
   "outputs": [],
   "source": [
    "# url1 = \"file:///Users/hardey/Desktop/WebBrowser\"\n",
    "# url = \"https://browser.engineering/html.html\"\n",
    "\n",
    "# body = URL(url).request()\n",
    "# body2 = URL(url2) \n",
    "# body2.request()\n",
    "browser = Browser()\n",
    "parser = HTMLParser(body)\n",
    "node = parser.parse()\n",
    "d = DocumentLayout(node)\n",
    "d.layout()"
   ]
  },
  {
   "cell_type": "code",
   "execution_count": null,
   "metadata": {},
   "outputs": [],
   "source": [
    "c = [child for child in d.children]"
   ]
  },
  {
   "cell_type": "code",
   "execution_count": null,
   "metadata": {},
   "outputs": [],
   "source": [
    "node.__dict__"
   ]
  },
  {
   "cell_type": "code",
   "execution_count": null,
   "metadata": {},
   "outputs": [],
   "source": [
    "style = \"p h1 {font-size: 16px; background-color: blue;}\"\n",
    "\n",
    "w = CSSParser(style)"
   ]
  },
  {
   "cell_type": "code",
   "execution_count": null,
   "metadata": {},
   "outputs": [],
   "source": [
    "w = w.selector()"
   ]
  },
  {
   "cell_type": "code",
   "execution_count": null,
   "metadata": {},
   "outputs": [],
   "source": [
    "w.__dict__"
   ]
  },
  {
   "cell_type": "code",
   "execution_count": null,
   "metadata": {},
   "outputs": [],
   "source": [
    "def nn(node):\n",
    "    for child in node.children:\n",
    "        nn(child)\n",
    "        if isinstance(child, Tag):\n",
    "            print(child.attributes)"
   ]
  },
  {
   "cell_type": "code",
   "execution_count": null,
   "metadata": {},
   "outputs": [],
   "source": [
    "nn(node)"
   ]
  },
  {
   "cell_type": "code",
   "execution_count": null,
   "metadata": {},
   "outputs": [],
   "source": [
    "w.__dict__"
   ]
  },
  {
   "cell_type": "code",
   "execution_count": null,
   "metadata": {},
   "outputs": [],
   "source": []
  }
 ],
 "metadata": {
  "kernelspec": {
   "display_name": ".venv",
   "language": "python",
   "name": "python3"
  },
  "language_info": {
   "codemirror_mode": {
    "name": "ipython",
    "version": 3
   },
   "file_extension": ".py",
   "mimetype": "text/x-python",
   "name": "python",
   "nbconvert_exporter": "python",
   "pygments_lexer": "ipython3",
   "version": "3.12.3"
  }
 },
 "nbformat": 4,
 "nbformat_minor": 2
}
