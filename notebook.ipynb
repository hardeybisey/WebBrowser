{
 "cells": [
  {
   "cell_type": "code",
   "execution_count": 1,
   "metadata": {},
   "outputs": [],
   "source": [
    "\n",
    "from html_parser import HTMLParser\n",
    "from layout import Layout\n",
    "from browser import Browser\n",
    "from models import Tag, SelfClosingTag, Text, ClosingTag"
   ]
  },
  {
   "cell_type": "code",
   "execution_count": null,
   "metadata": {},
   "outputs": [],
   "source": [
    "class Node:\n",
    "    def __init__(self, data):\n",
    "        self.data = data\n",
    "        self.next = None\n",
    "        self.prev = None\n",
    "            \n",
    "    def __repr__(self):\n",
    "        return f\"{self.data}\"\n",
    "\n",
    "\n",
    "class DoublyLinkedList:\n",
    "    def __init__(self):\n",
    "        self.head = None\n",
    "        self.tail = None\n",
    "        self.length = 0\n",
    "\n",
    "    def __repr__(self):\n",
    "        return str(self.__dict__)\n",
    "\n",
    "    def append(self, data):\n",
    "        new_node = Node(data)\n",
    "        if self.head is None:\n",
    "            self.head = new_node\n",
    "            self.tail = self.head\n",
    "        else:\n",
    "            self.tail.next = new_node\n",
    "            new_node.prev = self.tail\n",
    "            self.tail = new_node\n",
    "        self.length += 1\n",
    "        return self\n",
    "\n",
    "    def prepend(self, data):\n",
    "        new_node = Node(data)\n",
    "        new_node.next = self.head\n",
    "        self.head.prev = new_node\n",
    "        self.head = new_node\n",
    "        self.length += 1\n",
    "        return self\n",
    "\n",
    "    def pretty_print(self):\n",
    "        array = []\n",
    "        current_node = self.head\n",
    "        while current_node:\n",
    "            array.append(current_node)\n",
    "            current_node = current_node.next\n",
    "        return array\n",
    "\n",
    "    def traverse_list(self, index):\n",
    "        node = self.head\n",
    "        for i in range(index):\n",
    "            node = node.next\n",
    "        return node\n",
    "\n",
    "    def insert(self, index, data):\n",
    "        if index >= self.length:\n",
    "            return self.append(data)\n",
    "        if index == 0:\n",
    "            return self.prepend(data)\n",
    "        new_node = Node(data)\n",
    "        prev_node = self.traverse_list(index - 1)\n",
    "        move_node = prev_node.next\n",
    "        new_node.next = move_node  # configure the new node next pointer\n",
    "        new_node.prev = prev_node  # configure the new node previous pointer\n",
    "        prev_node.next = new_node\n",
    "        move_node.prev = new_node\n",
    "        self.length += 1\n",
    "        return self\n",
    "\n",
    "    # def remove(self, index):\n",
    "    #     if index >= self.length:\n",
    "    #         raise IndexError(\"list index out of range\")\n",
    "    #     if index == 0:\n",
    "    #         self.head = self.head.next\n",
    "    #         self.length -= 1\n",
    "    #         return self\n",
    "\n",
    "    #     prev_node = self.traverse_list(index - 1)\n",
    "    #     del_node = prev_node.next\n",
    "    #     prev_node.next = del_node.next\n",
    "    #     prev_node.prev = del_node.prev\n",
    "    #     self.length -= 1\n",
    "    #     return self\n",
    "\n",
    "linkedlist = DoublyLinkedList()\n",
    "linkedlist.append(10)\n",
    "linkedlist.append(5)\n",
    "linkedlist.append(16)\n",
    "linkedlist.prepend(1)\n",
    "linkedlist.insert(1, 6)\n",
    "# linkedlist.remove(3)\n",
    "# linkedlist.print_list()"
   ]
  },
  {
   "cell_type": "code",
   "execution_count": 2,
   "metadata": {},
   "outputs": [],
   "source": [
    "body = \"\"\"\n",
    "<!DOCTYPE html>\n",
    "<html>\n",
    "<head>\n",
    "    <title>Sample HTML</title>\n",
    "    <meta charset=\"UTF-8\">\n",
    "    <link rel=\"stylesheet\" href=\"style.css\" />\n",
    "</head>\n",
    "<body>\n",
    "    <h1>Welcome to Our Website</h1>\n",
    "    <a href=\"https://www.google.com\"> This is a link </a>\n",
    "    <p>This is a paragraph with some <i>italic text</i>.</p>\n",
    "    <img src=\"logo.png\" alt=\"Our Logo\" />\n",
    "    <br />\n",
    "    <div> This is a div </div>\n",
    "    <div> This is another div </div>\n",
    "    <input type=\"text\" placeholder=\"Enter your name\" />\n",
    "</body>\n",
    "</html>\n",
    "\"\"\""
   ]
  },
  {
   "cell_type": "code",
   "execution_count": 4,
   "metadata": {},
   "outputs": [
    {
     "data": {
      "text/plain": [
       "{'tag': 'p',\n",
       " 'attributes': {},\n",
       " 'parent': <body>,\n",
       " 'children': [This is a paragraph with some , <i>, ., </p>],\n",
       " 'text': ''}"
      ]
     },
     "execution_count": 4,
     "metadata": {},
     "output_type": "execute_result"
    }
   ],
   "source": [
    "node.children[1].children[2].__dict__"
   ]
  },
  {
   "cell_type": "code",
   "execution_count": 3,
   "metadata": {},
   "outputs": [],
   "source": [
    "browser = Browser()\n",
    "parser = HTMLParser(body)\n",
    "node = parser.parse()\n",
    "d_list = Layout(node).display_list"
   ]
  },
  {
   "cell_type": "code",
   "execution_count": 5,
   "metadata": {},
   "outputs": [],
   "source": [
    "def print_tree(node, indent=0):\n",
    "    print(\" \" * indent, node)\n",
    "    for child in node.children:\n",
    "        print_tree(child, indent+2)"
   ]
  },
  {
   "cell_type": "code",
   "execution_count": 7,
   "metadata": {},
   "outputs": [
    {
     "name": "stdout",
     "output_type": "stream",
     "text": [
      "{'tag': 'html', 'attributes': {}, 'parent': None, 'children': [<head>, <body>, </html>], 'text': ''}\n",
      "{'tag': 'head', 'attributes': {}, 'parent': <html>, 'children': [<title>, <meta>, <link>, </head>], 'text': ''}\n",
      "{'tag': 'title', 'attributes': {}, 'parent': <head>, 'children': [Sample HTML, </title>], 'text': ''}\n",
      "{'text': 'Sample HTML'}\n"
     ]
    },
    {
     "ename": "AttributeError",
     "evalue": "'Text' object has no attribute 'children'",
     "output_type": "error",
     "traceback": [
      "\u001b[0;31m---------------------------------------------------------------------------\u001b[0m",
      "\u001b[0;31mAttributeError\u001b[0m                            Traceback (most recent call last)",
      "Cell \u001b[0;32mIn[7], line 1\u001b[0m\n\u001b[0;32m----> 1\u001b[0m \u001b[43mrecurse\u001b[49m\u001b[43m(\u001b[49m\u001b[43mnode\u001b[49m\u001b[43m)\u001b[49m\n",
      "Cell \u001b[0;32mIn[5], line 11\u001b[0m, in \u001b[0;36mrecurse\u001b[0;34m(node)\u001b[0m\n\u001b[1;32m      9\u001b[0m     line\u001b[38;5;241m.\u001b[39mappend(text)\n\u001b[1;32m     10\u001b[0m \u001b[38;5;28;01mfor\u001b[39;00m child \u001b[38;5;129;01min\u001b[39;00m node\u001b[38;5;241m.\u001b[39mchildren:\n\u001b[0;32m---> 11\u001b[0m     \u001b[43mrecurse\u001b[49m\u001b[43m(\u001b[49m\u001b[43mchild\u001b[49m\u001b[43m)\u001b[49m\n\u001b[1;32m     12\u001b[0m \u001b[38;5;28;01mif\u001b[39;00m \u001b[38;5;28misinstance\u001b[39m(node, ClosingTag):\n\u001b[1;32m     13\u001b[0m     line\u001b[38;5;241m.\u001b[39mappend(node\u001b[38;5;241m.\u001b[39mtag)\n",
      "Cell \u001b[0;32mIn[5], line 11\u001b[0m, in \u001b[0;36mrecurse\u001b[0;34m(node)\u001b[0m\n\u001b[1;32m      9\u001b[0m     line\u001b[38;5;241m.\u001b[39mappend(text)\n\u001b[1;32m     10\u001b[0m \u001b[38;5;28;01mfor\u001b[39;00m child \u001b[38;5;129;01min\u001b[39;00m node\u001b[38;5;241m.\u001b[39mchildren:\n\u001b[0;32m---> 11\u001b[0m     \u001b[43mrecurse\u001b[49m\u001b[43m(\u001b[49m\u001b[43mchild\u001b[49m\u001b[43m)\u001b[49m\n\u001b[1;32m     12\u001b[0m \u001b[38;5;28;01mif\u001b[39;00m \u001b[38;5;28misinstance\u001b[39m(node, ClosingTag):\n\u001b[1;32m     13\u001b[0m     line\u001b[38;5;241m.\u001b[39mappend(node\u001b[38;5;241m.\u001b[39mtag)\n",
      "Cell \u001b[0;32mIn[5], line 11\u001b[0m, in \u001b[0;36mrecurse\u001b[0;34m(node)\u001b[0m\n\u001b[1;32m      9\u001b[0m     line\u001b[38;5;241m.\u001b[39mappend(text)\n\u001b[1;32m     10\u001b[0m \u001b[38;5;28;01mfor\u001b[39;00m child \u001b[38;5;129;01min\u001b[39;00m node\u001b[38;5;241m.\u001b[39mchildren:\n\u001b[0;32m---> 11\u001b[0m     \u001b[43mrecurse\u001b[49m\u001b[43m(\u001b[49m\u001b[43mchild\u001b[49m\u001b[43m)\u001b[49m\n\u001b[1;32m     12\u001b[0m \u001b[38;5;28;01mif\u001b[39;00m \u001b[38;5;28misinstance\u001b[39m(node, ClosingTag):\n\u001b[1;32m     13\u001b[0m     line\u001b[38;5;241m.\u001b[39mappend(node\u001b[38;5;241m.\u001b[39mtag)\n",
      "Cell \u001b[0;32mIn[5], line 10\u001b[0m, in \u001b[0;36mrecurse\u001b[0;34m(node)\u001b[0m\n\u001b[1;32m      8\u001b[0m     \u001b[38;5;66;03m# for word in text.split():\u001b[39;00m\n\u001b[1;32m      9\u001b[0m     line\u001b[38;5;241m.\u001b[39mappend(text)\n\u001b[0;32m---> 10\u001b[0m \u001b[38;5;28;01mfor\u001b[39;00m child \u001b[38;5;129;01min\u001b[39;00m \u001b[43mnode\u001b[49m\u001b[38;5;241;43m.\u001b[39;49m\u001b[43mchildren\u001b[49m:\n\u001b[1;32m     11\u001b[0m     recurse(child)\n\u001b[1;32m     12\u001b[0m \u001b[38;5;28;01mif\u001b[39;00m \u001b[38;5;28misinstance\u001b[39m(node, ClosingTag):\n",
      "\u001b[0;31mAttributeError\u001b[0m: 'Text' object has no attribute 'children'"
     ]
    },
    {
     "ename": "",
     "evalue": "",
     "output_type": "error",
     "traceback": [
      "\u001b[1;31mThe Kernel crashed while executing code in the current cell or a previous cell. \n",
      "\u001b[1;31mPlease review the code in the cell(s) to identify a possible cause of the failure. \n",
      "\u001b[1;31mClick <a href='https://aka.ms/vscodeJupyterKernelCrash'>here</a> for more info. \n",
      "\u001b[1;31mView Jupyter <a href='command:jupyter.viewOutput'>log</a> for further details."
     ]
    }
   ],
   "source": [
    "recurse(node)"
   ]
  },
  {
   "cell_type": "code",
   "execution_count": 11,
   "metadata": {},
   "outputs": [
    {
     "data": {
      "text/plain": [
       "['html',\n",
       " '',\n",
       " 'head',\n",
       " '',\n",
       " 'title',\n",
       " 'Sample HTML',\n",
       " '',\n",
       " '/title',\n",
       " 'meta',\n",
       " '',\n",
       " 'link',\n",
       " '',\n",
       " '',\n",
       " '/head',\n",
       " 'body',\n",
       " '',\n",
       " 'h1',\n",
       " 'Welcome to Our Website',\n",
       " '',\n",
       " '/h1',\n",
       " 'a',\n",
       " ' This is a link ',\n",
       " '',\n",
       " '/a',\n",
       " 'p',\n",
       " 'This is a paragraph with some .',\n",
       " 'i',\n",
       " 'italic text',\n",
       " '',\n",
       " '/i',\n",
       " '',\n",
       " '/p',\n",
       " 'img',\n",
       " '',\n",
       " 'br',\n",
       " '',\n",
       " 'div',\n",
       " ' This is a div ',\n",
       " '',\n",
       " '/div',\n",
       " 'div',\n",
       " ' This is another div ',\n",
       " '',\n",
       " '/div',\n",
       " 'input',\n",
       " '',\n",
       " '',\n",
       " '/body',\n",
       " '',\n",
       " '/html']"
      ]
     },
     "execution_count": 11,
     "metadata": {},
     "output_type": "execute_result"
    }
   ],
   "source": [
    "line"
   ]
  },
  {
   "cell_type": "code",
   "execution_count": 6,
   "metadata": {},
   "outputs": [
    {
     "name": "stdout",
     "output_type": "stream",
     "text": [
      " <html>\n",
      "   <head>\n",
      "     <title>\n",
      "       </title>\n",
      "     <meta>\n",
      "     <link>\n",
      "     </head>\n",
      "   <body>\n",
      "     <h1>\n",
      "       </h1>\n",
      "     <a>\n",
      "       </a>\n",
      "     <p>\n",
      "       <i>\n",
      "         </i>\n",
      "       </p>\n",
      "     <img>\n",
      "     <br>\n",
      "     <div>\n",
      "       </div>\n",
      "     <div>\n",
      "       </div>\n",
      "     <input>\n",
      "     </body>\n",
      "   </html>\n"
     ]
    }
   ],
   "source": [
    "print_tree(node)"
   ]
  },
  {
   "cell_type": "code",
   "execution_count": 6,
   "metadata": {},
   "outputs": [],
   "source": [
    "line = []"
   ]
  },
  {
   "cell_type": "code",
   "execution_count": 5,
   "metadata": {},
   "outputs": [],
   "source": [
    "def recurse(node):\n",
    "    print(node.__dict__)\n",
    "    \"Recurse through the tree adding open and close tags as needed.\"\n",
    "    if isinstance(node, (Tag, SelfClosingTag)):\n",
    "        line.append(node.tag)\n",
    "    if isinstance(node.text, str):\n",
    "        text = node.text\n",
    "        # for word in text.split():\n",
    "        line.append(text)\n",
    "    for child in node.children:\n",
    "        recurse(child)\n",
    "    if isinstance(node, ClosingTag):\n",
    "        line.append(node.tag)"
   ]
  },
  {
   "cell_type": "code",
   "execution_count": 15,
   "metadata": {},
   "outputs": [],
   "source": []
  },
  {
   "cell_type": "code",
   "execution_count": 10,
   "metadata": {},
   "outputs": [
    {
     "name": "stdout",
     "output_type": "stream",
     "text": [
      "{'tag': 'html', 'attributes': {}, 'parent': None, 'children': [<head>, <body>, </html>], 'text': ''}\n",
      "{'tag': 'head', 'attributes': {}, 'parent': <html>, 'children': [<title>, <meta>, <link>, </head>], 'text': ''}\n",
      "{'tag': 'title', 'attributes': {}, 'parent': <head>, 'children': [</title>], 'text': 'Sample HTML'}\n",
      "{'tag': '/title', 'attributes': {}, 'parent': <title>, 'children': [], 'text': ''}\n",
      "{'tag': 'meta', 'attributes': {'charset': 'UTF-8'}, 'parent': <head>, 'children': [], 'text': ''}\n",
      "{'tag': 'link', 'attributes': {'rel': 'stylesheet', 'href': 'style.css', '/': ''}, 'parent': <head>, 'children': [], 'text': ''}\n",
      "{'tag': '/head', 'attributes': {}, 'parent': <head>, 'children': [], 'text': ''}\n",
      "{'tag': 'body', 'attributes': {}, 'parent': <html>, 'children': [<h1>, <a>, <p>, <img>, <br>, <div>, <div>, <input>, </body>], 'text': ''}\n",
      "{'tag': 'h1', 'attributes': {}, 'parent': <body>, 'children': [</h1>], 'text': 'Welcome to Our Website'}\n",
      "{'tag': '/h1', 'attributes': {}, 'parent': <h1>, 'children': [], 'text': ''}\n",
      "{'tag': 'a', 'attributes': {'href': 'https://www.google.com'}, 'parent': <body>, 'children': [</a>], 'text': ' This is a link '}\n",
      "{'tag': '/a', 'attributes': {}, 'parent': <a>, 'children': [], 'text': ''}\n",
      "{'tag': 'p', 'attributes': {}, 'parent': <body>, 'children': [<i>, </p>], 'text': 'This is a paragraph with some .'}\n",
      "{'tag': 'i', 'attributes': {}, 'parent': <p>, 'children': [</i>], 'text': 'italic text'}\n",
      "{'tag': '/i', 'attributes': {}, 'parent': <i>, 'children': [], 'text': ''}\n",
      "{'tag': '/p', 'attributes': {}, 'parent': <p>, 'children': [], 'text': ''}\n",
      "{'tag': 'img', 'attributes': {'src': 'logo.png', 'alt': 'Ou', 'logo\"': '', '/': ''}, 'parent': <body>, 'children': [], 'text': ''}\n",
      "{'tag': 'br', 'attributes': {'/': ''}, 'parent': <body>, 'children': [], 'text': ''}\n",
      "{'tag': 'div', 'attributes': {}, 'parent': <body>, 'children': [</div>], 'text': ' This is a div '}\n",
      "{'tag': '/div', 'attributes': {}, 'parent': <div>, 'children': [], 'text': ''}\n",
      "{'tag': 'div', 'attributes': {}, 'parent': <body>, 'children': [</div>], 'text': ' This is another div '}\n",
      "{'tag': '/div', 'attributes': {}, 'parent': <div>, 'children': [], 'text': ''}\n",
      "{'tag': 'input', 'attributes': {'type': 'text', 'placeholder': 'Ente', 'your': '', 'name\"': '', '/': ''}, 'parent': <body>, 'children': [], 'text': ''}\n",
      "{'tag': '/body', 'attributes': {}, 'parent': <body>, 'children': [], 'text': ''}\n",
      "{'tag': '/html', 'attributes': {}, 'parent': <html>, 'children': [], 'text': ''}\n"
     ]
    }
   ],
   "source": [
    "recurse(node)"
   ]
  },
  {
   "cell_type": "code",
   "execution_count": 22,
   "metadata": {},
   "outputs": [
    {
     "data": {
      "text/plain": [
       "['html',\n",
       " 'head',\n",
       " 'title',\n",
       " 'Sample HTML',\n",
       " '/title',\n",
       " 'meta',\n",
       " 'link',\n",
       " '/head',\n",
       " 'body',\n",
       " 'h1',\n",
       " 'Welcome to Our Website',\n",
       " '/h1',\n",
       " 'a',\n",
       " ' This is a link ',\n",
       " '/a',\n",
       " 'p',\n",
       " '.',\n",
       " 'i',\n",
       " 'italic text',\n",
       " '/i',\n",
       " '/p',\n",
       " 'img',\n",
       " 'br',\n",
       " 'div',\n",
       " ' This is a div ',\n",
       " '/div',\n",
       " 'div',\n",
       " ' This is another div ',\n",
       " '/div',\n",
       " 'input',\n",
       " '/body',\n",
       " '/html']"
      ]
     },
     "execution_count": 22,
     "metadata": {},
     "output_type": "execute_result"
    }
   ],
   "source": [
    "line"
   ]
  },
  {
   "cell_type": "code",
   "execution_count": null,
   "metadata": {},
   "outputs": [],
   "source": []
  }
 ],
 "metadata": {
  "kernelspec": {
   "display_name": ".venv",
   "language": "python",
   "name": "python3"
  },
  "language_info": {
   "codemirror_mode": {
    "name": "ipython",
    "version": 3
   },
   "file_extension": ".py",
   "mimetype": "text/x-python",
   "name": "python",
   "nbconvert_exporter": "python",
   "pygments_lexer": "ipython3",
   "version": "3.9.18"
  }
 },
 "nbformat": 4,
 "nbformat_minor": 2
}
