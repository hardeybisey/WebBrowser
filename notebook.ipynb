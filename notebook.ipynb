{
 "cells": [
  {
   "cell_type": "code",
   "execution_count": 3,
   "metadata": {},
   "outputs": [],
   "source": [
    "from html_parser import HTMLParser\n",
    "from layout import Layout\n",
    "from url import URL\n",
    "from browser import Browser"
   ]
  },
  {
   "cell_type": "code",
   "execution_count": null,
   "metadata": {},
   "outputs": [],
   "source": [
    "class Node:\n",
    "    def __init__(self, data):\n",
    "        self.data = data\n",
    "        self.next = None\n",
    "        self.prev = None\n",
    "            \n",
    "    def __repr__(self):\n",
    "        return f\"{self.data}\"\n",
    "\n",
    "\n",
    "class DoublyLinkedList:\n",
    "    def __init__(self):\n",
    "        self.head = None\n",
    "        self.tail = None\n",
    "        self.length = 0\n",
    "\n",
    "    def __repr__(self):\n",
    "        return str(self.__dict__)\n",
    "\n",
    "    def append(self, data):\n",
    "        new_node = Node(data)\n",
    "        if self.head is None:\n",
    "            self.head = new_node\n",
    "            self.tail = self.head\n",
    "        else:\n",
    "            self.tail.next = new_node\n",
    "            new_node.prev = self.tail\n",
    "            self.tail = new_node\n",
    "        self.length += 1\n",
    "        return self\n",
    "\n",
    "    def prepend(self, data):\n",
    "        new_node = Node(data)\n",
    "        new_node.next = self.head\n",
    "        self.head.prev = new_node\n",
    "        self.head = new_node\n",
    "        self.length += 1\n",
    "        return self\n",
    "\n",
    "    def pretty_print(self):\n",
    "        array = []\n",
    "        current_node = self.head\n",
    "        while current_node:\n",
    "            array.append(current_node)\n",
    "            current_node = current_node.next\n",
    "        return array\n",
    "\n",
    "    def traverse_list(self, index):\n",
    "        node = self.head\n",
    "        for i in range(index):\n",
    "            node = node.next\n",
    "        return node\n",
    "\n",
    "    def insert(self, index, data):\n",
    "        if index >= self.length:\n",
    "            return self.append(data)\n",
    "        if index == 0:\n",
    "            return self.prepend(data)\n",
    "        new_node = Node(data)\n",
    "        prev_node = self.traverse_list(index - 1)\n",
    "        move_node = prev_node.next\n",
    "        new_node.next = move_node  # configure the new node next pointer\n",
    "        new_node.prev = prev_node  # configure the new node previous pointer\n",
    "        prev_node.next = new_node\n",
    "        move_node.prev = new_node\n",
    "        self.length += 1\n",
    "        return self\n",
    "\n",
    "    # def remove(self, index):\n",
    "    #     if index >= self.length:\n",
    "    #         raise IndexError(\"list index out of range\")\n",
    "    #     if index == 0:\n",
    "    #         self.head = self.head.next\n",
    "    #         self.length -= 1\n",
    "    #         return self\n",
    "\n",
    "    #     prev_node = self.traverse_list(index - 1)\n",
    "    #     del_node = prev_node.next\n",
    "    #     prev_node.next = del_node.next\n",
    "    #     prev_node.prev = del_node.prev\n",
    "    #     self.length -= 1\n",
    "    #     return self\n",
    "\n",
    "\n",
    "linkedlist = DoublyLinkedList()\n",
    "linkedlist.append(10)\n",
    "linkedlist.append(5)\n",
    "linkedlist.append(16)\n",
    "linkedlist.prepend(1)\n",
    "linkedlist.insert(1, 6)\n",
    "# linkedlist.remove(3)\n",
    "# linkedlist.print_list()"
   ]
  },
  {
   "cell_type": "code",
   "execution_count": 3,
   "metadata": {},
   "outputs": [],
   "source": [
    "html = \"\"\"\n",
    "<!DOCTYPE html>\n",
    "<html>\n",
    "<head>\n",
    "    <title>My Page</title>\n",
    "</head>\n",
    "<body>\n",
    "    <div>\n",
    "        Hello World\n",
    "    </div>\n",
    "    <div> \n",
    "        <p> This is a paragraph </p>\n",
    "        <a href=\"https://www.google.com\"> This is a link </a>\n",
    "    </div>\n",
    "</body>\n",
    "</html>\n",
    "\"\"\""
   ]
  },
  {
   "cell_type": "code",
   "execution_count": 6,
   "metadata": {},
   "outputs": [
    {
     "name": "stdout",
     "output_type": "stream",
     "text": [
      "node:  {'tag': 'html', 'attributes': {'lang': 'en-US', 'xml:lang': 'en-US'}, 'prev': None, 'next': <head>, 'text': '', 'closed': False}\n",
      "node:  {'tag': 'head', 'attributes': {}, 'prev': <html>, 'next': <title>, 'text': '', 'closed': True}\n",
      "node:  {'tag': 'title', 'attributes': {}, 'prev': <head>, 'next': <body>, 'text': Web Browser Engineering, 'closed': True}\n",
      "node:  {'tag': 'body', 'attributes': {'class': 'main'}, 'prev': <title>, 'next': <header>, 'text': '', 'closed': True}\n",
      "node:  {'tag': 'header', 'attributes': {}, 'prev': <body>, 'next': <h1>, 'text':  ·\n",
      ", 'closed': True}\n",
      "node:  {'tag': 'h1', 'attributes': {'class': 'title'}, 'prev': <header>, 'next': <p>, 'text': Web Browser Engineering, 'closed': True}\n",
      "node:  {'tag': 'p', 'attributes': {'class': 'author'}, 'prev': <h1>, 'next': <a>, 'text': Pavel Panchekha &amp; Chris Harrelson, 'closed': True}\n",
      "node:  {'tag': 'a', 'attributes': {'href': 'https://twitter.com/browserbook'}, 'prev': <p>, 'next': <a>, 'text': Twitter, 'closed': True}\n",
      "node:  {'tag': 'a', 'attributes': {'href': 'https://browserbook.substack.com/'}, 'prev': <a>, 'next': <a>, 'text': Blog, 'closed': True}\n",
      "node:  {'tag': 'a', 'attributes': {'href': 'https://patreon.com/browserengineering'}, 'prev': <a>, 'next': <a>, 'text': Patreon, 'closed': True}\n",
      "node:  {'tag': 'a', 'attributes': {'href': 'https://github.com/browserengineering/book/discussions'}, 'prev': <a>, 'next': <nav>, 'text': Discussions, 'closed': True}\n",
      "word:  [(13, 'Web', <tkinter.font.Font object at 0x7f79e6ea80a0>), (43, 'Browser', <tkinter.font.Font object at 0x7f79e6ea80a0>), (94, 'Engineering', <tkinter.font.Font object at 0x7f79e6ea80a0>), (165, '·', <tkinter.font.Font object at 0x7f79e6ea80a0>), (173, 'Web', <tkinter.font.Font object at 0x7f79e6ea80a0>), (203, 'Browser', <tkinter.font.Font object at 0x7f79e6ea80a0>), (254, 'Engineering', <tkinter.font.Font object at 0x7f79e6ea80a0>), (325, 'Pavel', <tkinter.font.Font object at 0x7f79e6ea80a0>), (360, 'Panchekha', <tkinter.font.Font object at 0x7f79e6ea80a0>), (427, '&amp;', <tkinter.font.Font object at 0x7f79e6ea80a0>), (468, 'Chris', <tkinter.font.Font object at 0x7f79e6ea80a0>), (502, 'Harrelson', <tkinter.font.Font object at 0x7f79e6ea80a0>), (561, 'Twitter', <tkinter.font.Font object at 0x7f79e6ea80a0>), (606, 'Blog', <tkinter.font.Font object at 0x7f79e6ea80a0>), (636, 'Patreon', <tkinter.font.Font object at 0x7f79e6ea80a0>), (685, 'Discussions', <tkinter.font.Font object at 0x7f79e6ea80a0>)]\n",
      "node:  {'tag': 'nav', 'attributes': {'id': 'toc'}, 'prev': <a>, 'next': <ul>, 'text': '', 'closed': True}\n",
      "node:  {'tag': 'ul', 'attributes': {}, 'prev': <nav>, 'next': <li>, 'text': '', 'closed': True}\n",
      "node:  {'tag': 'li', 'attributes': {}, 'prev': <ul>, 'next': <a>, 'text': '', 'closed': True}\n",
      "node:  {'tag': 'a', 'attributes': {'href': '#introduction', 'id': 'toc-introduction'}, 'prev': <li>, 'next': <li>, 'text': Introduction, 'closed': True}\n",
      "node:  {'tag': 'li', 'attributes': {}, 'prev': <a>, 'next': <a>, 'text': '', 'closed': True}\n",
      "node:  {'tag': 'a', 'attributes': {'href': '#part-1-drawing-graphics', 'id': 'toc-part-1-drawing-graphics'}, 'prev': <li>, 'next': <li>, 'text': Part 1: Drawing Graphics, 'closed': True}\n",
      "node:  {'tag': 'li', 'attributes': {}, 'prev': <a>, 'next': <a>, 'text': '', 'closed': True}\n",
      "node:  {'tag': 'a', 'attributes': {'href': '#part-2-viewing-documents', 'id': 'toc-part-2-viewing-documents'}, 'prev': <li>, 'next': <li>, 'text': Part 2: Viewing Documents, 'closed': True}\n",
      "node:  {'tag': 'li', 'attributes': {}, 'prev': <a>, 'next': <a>, 'text': '', 'closed': True}\n",
      "node:  {'tag': 'a', 'attributes': {'href': '#part-3-running-applications', 'id': 'toc-part-3-running-applications'}, 'prev': <li>, 'next': <li>, 'text': Part 3: Running\n",
      "Applications, 'closed': True}\n",
      "node:  {'tag': 'li', 'attributes': {}, 'prev': <a>, 'next': <a>, 'text': '', 'closed': True}\n",
      "node:  {'tag': 'a', 'attributes': {'href': '#part-4-modern-browsers', 'id': 'toc-part-4-modern-browsers'}, 'prev': <li>, 'next': <p>, 'text': Part 4: Modern Browsers, 'closed': True}\n",
      "node:  {'tag': 'p', 'attributes': {}, 'prev': <a>, 'next': <div>, 'text': Web browsers are ubiquitous, but how do they work? This book\n",
      "explains, building a basic but complete web browser, from networking to\n",
      "JavaScript, in a couple thousand lines of Python., 'closed': True}\n",
      "word:  [(13, 'Introduction', <tkinter.font.Font object at 0x7f79e6ea80a0>), (86, 'Part', <tkinter.font.Font object at 0x7f79e6ea80a0>), (114, '1:', <tkinter.font.Font object at 0x7f79e6ea80a0>), (128, 'Drawing', <tkinter.font.Font object at 0x7f79e6ea80a0>), (179, 'Graphics', <tkinter.font.Font object at 0x7f79e6ea80a0>), (234, 'Part', <tkinter.font.Font object at 0x7f79e6ea80a0>), (262, '2:', <tkinter.font.Font object at 0x7f79e6ea80a0>), (277, 'Viewing', <tkinter.font.Font object at 0x7f79e6ea80a0>), (326, 'Documents', <tkinter.font.Font object at 0x7f79e6ea80a0>), (395, 'Part', <tkinter.font.Font object at 0x7f79e6ea80a0>), (423, '3:', <tkinter.font.Font object at 0x7f79e6ea80a0>), (439, 'Running', <tkinter.font.Font object at 0x7f79e6ea80a0>), (490, 'Applications', <tkinter.font.Font object at 0x7f79e6ea80a0>), (564, 'Part', <tkinter.font.Font object at 0x7f79e6ea80a0>), (592, '4:', <tkinter.font.Font object at 0x7f79e6ea80a0>), (608, 'Modern', <tkinter.font.Font object at 0x7f79e6ea80a0>), (656, 'Browsers', <tkinter.font.Font object at 0x7f79e6ea80a0>), (713, 'Web', <tkinter.font.Font object at 0x7f79e6ea80a0>), (743, 'browsers', <tkinter.font.Font object at 0x7f79e6ea80a0>)]\n",
      "word:  [(13, 'are', <tkinter.font.Font object at 0x7f79e6ea80a0>), (36, 'ubiquitous,', <tkinter.font.Font object at 0x7f79e6ea80a0>), (103, 'but', <tkinter.font.Font object at 0x7f79e6ea80a0>), (126, 'how', <tkinter.font.Font object at 0x7f79e6ea80a0>), (154, 'do', <tkinter.font.Font object at 0x7f79e6ea80a0>), (173, 'they', <tkinter.font.Font object at 0x7f79e6ea80a0>), (202, 'work?', <tkinter.font.Font object at 0x7f79e6ea80a0>), (240, 'This', <tkinter.font.Font object at 0x7f79e6ea80a0>), (268, 'book', <tkinter.font.Font object at 0x7f79e6ea80a0>), (301, 'explains,', <tkinter.font.Font object at 0x7f79e6ea80a0>), (355, 'building', <tkinter.font.Font object at 0x7f79e6ea80a0>), (405, 'a', <tkinter.font.Font object at 0x7f79e6ea80a0>), (416, 'basic', <tkinter.font.Font object at 0x7f79e6ea80a0>), (450, 'but', <tkinter.font.Font object at 0x7f79e6ea80a0>), (473, 'complete', <tkinter.font.Font object at 0x7f79e6ea80a0>), (530, 'web', <tkinter.font.Font object at 0x7f79e6ea80a0>), (558, 'browser,', <tkinter.font.Font object at 0x7f79e6ea80a0>), (612, 'from', <tkinter.font.Font object at 0x7f79e6ea80a0>), (643, 'networking', <tkinter.font.Font object at 0x7f79e6ea80a0>), (710, 'to', <tkinter.font.Font object at 0x7f79e6ea80a0>), (726, 'JavaScript,', <tkinter.font.Font object at 0x7f79e6ea80a0>)]\n",
      "node:  {'tag': 'div', 'attributes': {'id': 'signup'}, 'prev': <p>, 'next': <iframe>, 'text': '', 'closed': True}\n",
      "node:  {'tag': 'iframe', 'attributes': {'src': 'https://browserbook.substack.com/embed', 'width': '350', 'height': '150', 'frameborder': '0', 'scrolling': 'no'}, 'prev': <div>, 'next': <a>, 'text': '', 'closed': True}\n",
      "node:  {'tag': 'a', 'attributes': {'href': '#', 'id': 'signup-close'}, 'prev': <iframe>, 'next': <p>, 'text': Close, 'closed': True}\n",
      "node:  {'tag': 'p', 'attributes': {}, 'prev': <a>, 'next': <a>, 'text': ., 'closed': True}\n",
      "node:  {'tag': 'a', 'attributes': {'href': 'https://browserbook.substack.com/archive'}, 'prev': <p>, 'next': <a>, 'text': blog, 'closed': True}\n",
      "node:  {'tag': 'a', 'attributes': {'href': 'https://twitter.com/browserbook'}, 'prev': <a>, 'next': <a>, 'text': Twitter, 'closed': True}\n",
      "node:  {'tag': 'a', 'attributes': {'href': 'https://github.com/browserengineering/book/discussions'}, 'prev': <a>, 'next': <p>, 'text': discussion\n",
      "forum, 'closed': True}\n",
      "node:  {'tag': 'p', 'attributes': {}, 'prev': <a>, 'next': <a>, 'text': ., 'closed': True}\n",
      "node:  {'tag': 'a', 'attributes': {'href': 'https://patreon.com/browserengineering'}, 'prev': <p>, 'next': <p>, 'text': Patreon, 'closed': True}\n",
      "node:  {'tag': 'p', 'attributes': {}, 'prev': <a>, 'next': <a>, 'text': !, 'closed': True}\n",
      "node:  {'tag': 'a', 'attributes': {'href': 'mailto:author@browser.engineering'}, 'prev': <p>, 'next': <section>, 'text': send us an\n",
      "email, 'closed': True}\n",
      "node:  {'tag': 'section', 'attributes': {'id': 'introduction', 'class': 'intro'}, 'prev': <a>, 'next': <h1>, 'text': '', 'closed': True}\n",
      "node:  {'tag': 'h1', 'attributes': {}, 'prev': <section>, 'next': <ol>, 'text': Introduction, 'closed': True}\n",
      "node:  {'tag': 'ol', 'attributes': {'type': '1'}, 'prev': <h1>, 'next': <li>, 'text': '', 'closed': True}\n",
      "node:  {'tag': 'li', 'attributes': {}, 'prev': <ol>, 'next': <a>, 'text': '', 'closed': True}\n",
      "node:  {'tag': 'a', 'attributes': {'href': 'preface.html'}, 'prev': <li>, 'next': <li>, 'text': Preface, 'closed': True}\n",
      "node:  {'tag': 'li', 'attributes': {}, 'prev': <a>, 'next': <a>, 'text': '', 'closed': True}\n",
      "node:  {'tag': 'a', 'attributes': {'href': 'intro.html'}, 'prev': <li>, 'next': <li>, 'text': Browsers and the Web, 'closed': True}\n",
      "word:  [(13, 'in', <tkinter.font.Font object at 0x7f79e6ea80a0>), (27, 'a', <tkinter.font.Font object at 0x7f79e6ea80a0>), (38, 'couple', <tkinter.font.Font object at 0x7f79e6ea80a0>), (81, 'thousand', <tkinter.font.Font object at 0x7f79e6ea80a0>), (138, 'lines', <tkinter.font.Font object at 0x7f79e6ea80a0>), (169, 'of', <tkinter.font.Font object at 0x7f79e6ea80a0>), (185, 'Python.', <tkinter.font.Font object at 0x7f79e6ea80a0>), (233, 'Close', <tkinter.font.Font object at 0x7f79e6ea80a0>), (269, '.', <tkinter.font.Font object at 0x7f79e6ea80a0>), (277, 'blog', <tkinter.font.Font object at 0x7f79e6ea80a0>), (306, 'Twitter', <tkinter.font.Font object at 0x7f79e6ea80a0>), (351, 'discussion', <tkinter.font.Font object at 0x7f79e6ea80a0>), (415, 'forum', <tkinter.font.Font object at 0x7f79e6ea80a0>), (453, '.', <tkinter.font.Font object at 0x7f79e6ea80a0>), (461, 'Patreon', <tkinter.font.Font object at 0x7f79e6ea80a0>), (510, '!', <tkinter.font.Font object at 0x7f79e6ea80a0>), (518, 'send', <tkinter.font.Font object at 0x7f79e6ea80a0>), (550, 'us', <tkinter.font.Font object at 0x7f79e6ea80a0>), (568, 'an', <tkinter.font.Font object at 0x7f79e6ea80a0>), (586, 'email', <tkinter.font.Font object at 0x7f79e6ea80a0>), (620, 'Introduction', <tkinter.font.Font object at 0x7f79e6ea80a0>), (693, 'Preface', <tkinter.font.Font object at 0x7f79e6ea80a0>), (741, 'Browsers', <tkinter.font.Font object at 0x7f79e6ea80a0>)]\n",
      "node:  {'tag': 'li', 'attributes': {}, 'prev': <a>, 'next': <a>, 'text': '', 'closed': True}\n",
      "node:  {'tag': 'a', 'attributes': {'href': 'history.html'}, 'prev': <li>, 'next': <h1>, 'text': History of the Web, 'closed': True}\n",
      "node:  {'tag': 'h1', 'attributes': {'id': 'part-1-drawing-graphics'}, 'prev': <a>, 'next': <ol>, 'text': Part 1: Drawing Graphics, 'closed': True}\n",
      "node:  {'tag': 'ol', 'attributes': {'type': '1'}, 'prev': <h1>, 'next': <li>, 'text': '', 'closed': True}\n",
      "node:  {'tag': 'li', 'attributes': {}, 'prev': <ol>, 'next': <br>, 'text': \n",
      "URLs and HTTP requests, 'closed': True}\n",
      "node:  {'tag': 'br', 'attributes': {'/': ''}, 'prev': <li>, 'next': None, 'text': '', 'closed': True}\n"
     ]
    }
   ],
   "source": [
    "body = URL(\"https://browser.engineering/\").request()\n",
    "browser = Browser()\n",
    "parser = HTMLParser(body)\n",
    "nodes = parser.parse()\n",
    "list = Layout(nodes).display_list"
   ]
  },
  {
   "cell_type": "code",
   "execution_count": 5,
   "metadata": {},
   "outputs": [
    {
     "data": {
      "text/plain": [
       "'<!DOCTYPE html>\\n<html lang=\"en-US\" xml:lang=\"en-US\">\\n<head>\\n  <meta charset=\"utf-8\" />\\n  <link rel=\"prefetch\" href=\"https://fonts.gstatic.com/s/lora/v32/0QI6MX1D_JOuGQbT0gvTJPa787weuxJBkq0.woff2\" as=\"font\" type=\"font/woff2\">\\n  <link rel=\"prefetch\" href=\"https://fonts.gstatic.com/s/vollkorn/v22/0ybgGDoxxrvAnPhYGzMlQLzuMasz6Df2MHGeHmmc.woff2\" as=\"font\" type=\"font/woff2\">\\n  <link rel=\"prefetch\" href=\"https://fonts.gstatic.com/s/vollkorn/v22/0ybuGDoxxrvAnPhYGxksckM2WMCpRjDj-DJGWlmeObQ.woff2\" as=\"font\" type=\"font/woff2\">\\n  <link rel=\"prefetch\" href=\"https://fonts.gstatic.com/s/lora/v32/0QI8MX1D_JOuMw_hLdO6T2wV9KnW-MoFoq92nA.woff2\" as=\"font\" type=\"font/woff2\">\\n  <link rel=\"prefetch\" href=\"https://fonts.gstatic.com/s/spectral/v5/rnCr-xNNww_2s0amA9M5knjsS_ul.woff2\" as=\"font\" type=\"font/woff2\">\\n  <meta name=\"color-scheme\" content=\"dark light\">\\n  <meta name=\"generator\" content=\"pandoc\" />\\n  <meta name=\"viewport\" content=\"width=device-width,initial-scale=1.0,user-scalable=yes\" />\\n  <meta name=\"author\" content=\"Pavel Panchekha &amp; Chris Harrelson\" />\\n\\n\\n\\n  <link rel=\"stylesheet\" href=\"book.css\" />\\n  <link rel=\"stylesheet\" href=\"https://fonts.googleapis.com/css?family=Vollkorn%7CLora&display=swap\" />\\n  <link rel=\"stylesheet\" href=\"https://fonts.googleapis.com/css?family=Vollkorn:400i%7CLora:400i&display=swap\" />\\n  <link rel=\"alternate\" type=\"application/rss+xml\" href=\"rss.xml\" title=\"Web Browser Engineering\">\\n\\n  <title>Web Browser Engineering</title>\\n\\n</head>\\n\\n<body class=\"main\">\\n\\n\\n<header>\\n<h1 class=\"title\">Web Browser Engineering</h1>\\n<p class=\"author\">Pavel Panchekha &amp; Chris Harrelson</p>\\n<a href=\"https://twitter.com/browserbook\">Twitter</a> ·\\n<a href=\"https://browserbook.substack.com/\">Blog</a> ·\\n<a href=\"https://patreon.com/browserengineering\">Patreon</a> ·\\n<a href=\"https://github.com/browserengineering/book/discussions\">Discussions</a>\\n</header>\\n\\n\\n<nav id=\"toc\">\\n<ul>\\n<li><a href=\"#introduction\" id=\"toc-introduction\">Introduction</a></li>\\n<li><a href=\"#part-1-drawing-graphics\"\\nid=\"toc-part-1-drawing-graphics\">Part 1: Drawing Graphics</a></li>\\n<li><a href=\"#part-2-viewing-documents\"\\nid=\"toc-part-2-viewing-documents\">Part 2: Viewing Documents</a></li>\\n<li><a href=\"#part-3-running-applications\"\\nid=\"toc-part-3-running-applications\">Part 3: Running\\nApplications</a></li>\\n<li><a href=\"#part-4-modern-browsers\"\\nid=\"toc-part-4-modern-browsers\">Part 4: Modern Browsers</a></li>\\n</ul>\\n</nav>\\n\\n<p>Web browsers are ubiquitous, but how do they work? This book\\nexplains, building a basic but complete web browser, from networking to\\nJavaScript, in a couple thousand lines of Python.</p>\\n\\n<div id=\"signup\">\\n<iframe src=\"https://browserbook.substack.com/embed\" width=\"350\" height=\"150\" frameborder=\"0\" scrolling=\"no\"></iframe>\\n<a href=\"#\" id=\"signup-close\">Close</a>\\n</div>\\n\\n<p>Follow this book’s <a\\nhref=\"https://browserbook.substack.com/archive\">blog</a> or <a\\nhref=\"https://twitter.com/browserbook\">Twitter</a> for updates. You can\\nalso talk about the book with others in our <a\\nhref=\"https://github.com/browserengineering/book/discussions\">discussion\\nforum</a>.</p>\\n<p>If you are enjoying the book, consider supporting us on <a\\nhref=\"https://patreon.com/browserengineering\">Patreon</a>.</p>\\n<p>Or just <a href=\"mailto:author@browser.engineering\">send us an\\nemail</a>!</p>\\n<section id=\"introduction\" class=\"intro\">\\n<h1>Introduction</h1>\\n<ol type=\"1\">\\n<li><a href=\"preface.html\">Preface</a></li>\\n<li><a href=\"intro.html\">Browsers and the Web</a></li>\\n<li><a href=\"history.html\">History of the Web</a></li>\\n</ol>\\n</section>\\n<h1 id=\"part-1-drawing-graphics\">Part 1: Drawing Graphics</h1>\\n<ol type=\"1\">\\n<li><a href=\"http.html\">Downloading Web Pages</a><br />\\nURLs and HTTP requests</li>\\n<li><a href=\"graphics.html\">Drawing to the Screen</a><br />\\nCreating windows and drawing to a canvas</li>\\n<li><a href=\"text.html\">Formatting Text</a><br />\\nWord wrapping and line spacing</li>\\n</ol>\\n<h1 id=\"part-2-viewing-documents\">Part 2: Viewing Documents</h1>\\n<ol start=\"4\" type=\"1\">\\n<li><a href=\"html.html\">Constructing a Document Tree</a><br />\\nParsing and fixing HTML</li>\\n<li><a href=\"layout.html\">Laying Out Pages</a><br />\\nInline and block layout</li>\\n<li><a href=\"styles.html\">Applying Author Styles</a><br />\\nParsing and applying CSS</li>\\n<li><a href=\"chrome.html\">Handling Buttons and Links</a><br />\\nHyperlinks and browser chrome</li>\\n</ol>\\n<h1 id=\"part-3-running-applications\">Part 3: Running Applications</h1>\\n<ol start=\"8\" type=\"1\">\\n<li><a href=\"forms.html\">Sending Information to Servers</a><br />\\nForm submission and web servers</li>\\n<li><a href=\"scripts.html\">Running Interactive Scripts</a><br />\\nChanging the DOM and reacting to events</li>\\n<li><a href=\"security.html\">Keeping Data Private</a><br />\\nCookies and logins, XSS and CSRF</li>\\n</ol>\\n<h1 id=\"part-4-modern-browsers\">Part 4: Modern Browsers</h1>\\n<ol start=\"11\" type=\"1\">\\n<li><a href=\"visual-effects.html\">Adding Visual Effects</a><br />\\nBlending, clipping, and compositing</li>\\n<li><a href=\"scheduling.html\">Scheduling Tasks and Threads</a><br />\\nThe event loop and the rendering pipeline</li>\\n<li><a href=\"animations.html\">Animating and Compositing</a><br />\\nSmooth animations using the GPU</li>\\n<li><a href=\"accessibility.html\">Making Content Accessible</a><br />\\nKeyboard input, zooming, and the accessibility tree</li>\\n<li><a href=\"embeds.html\">Supporting Embedded Content</a><br />\\nImages, iframes, and scripting</li>\\n<li><a href=\"invalidation.html\">Reusing Previous Computation</a><br />\\nInvalidation, editing, and correctness</li>\\n</ol>\\n<div class=\"outro\">\\n<h1 id=\"conclusion\">Conclusion</h1>\\n<ol type=\"1\">\\n<li><a href=\"skipped.html\">What Wasn’t Covered</a></li>\\n<li><a href=\"change.html\">A Changing Landscape</a></li>\\n</ol>\\n<h1 id=\"appendix\">Appendix</h1>\\n<ol start=\"3\" type=\"1\">\\n<li><a href=\"glossary.html\">Glossary</a></li>\\n<li><a href=\"bibliography.html\">Bibliography</a></li>\\n<li><a href=\"about.html\">About the Authors</a></li>\\n<li><a href=\"/thanks\">Contributors</a></li>\\n<li><a href=\"classes.html\">List of courses taught from this\\nbook</a></li>\\n<li><a href=\"onepage.html\">One-page version</a></li>\\n</ol>\\n</div>\\n\\n\\n\\n\\n\\n<footer>\\n  &copy; 2018&ndash;2023 <a href=\"https://pavpanchekha.com\">Pavel Panchekha</a> &amp; <a href=\"https://twitter.com/chrishtr\">Chris Harrelson</a>\\n</footer>\\n\\n<script type=\"text/javascript\" src=\"feedback.js\"></script>\\n<script type=\"text/javascript\" src=\"book.js\"></script>\\n</body>\\n</html>\\n'"
      ]
     },
     "execution_count": 5,
     "metadata": {},
     "output_type": "execute_result"
    }
   ],
   "source": [
    "body"
   ]
  },
  {
   "cell_type": "code",
   "execution_count": 9,
   "metadata": {},
   "outputs": [
    {
     "data": {
      "text/plain": [
       "<body>"
      ]
     },
     "execution_count": 9,
     "metadata": {},
     "output_type": "execute_result"
    }
   ],
   "source": [
    "nodes.next"
   ]
  },
  {
   "cell_type": "code",
   "execution_count": null,
   "metadata": {},
   "outputs": [],
   "source": [
    "for ch in nodes.children:    \n",
    "    # print_tree(ch)\n",
    "    print(ch)"
   ]
  },
  {
   "cell_type": "code",
   "execution_count": 9,
   "metadata": {},
   "outputs": [
    {
     "name": "stdout",
     "output_type": "stream",
     "text": [
      " <html> \n",
      "   <body> \n",
      "     <body> \n",
      "       <div> \n",
      "        Hello World\n",
      "    \n"
     ]
    }
   ],
   "source": [
    "print_tree(nodes)"
   ]
  },
  {
   "cell_type": "code",
   "execution_count": null,
   "metadata": {},
   "outputs": [],
   "source": []
  }
 ],
 "metadata": {
  "kernelspec": {
   "display_name": ".venv",
   "language": "python",
   "name": "python3"
  },
  "language_info": {
   "codemirror_mode": {
    "name": "ipython",
    "version": 3
   },
   "file_extension": ".py",
   "mimetype": "text/x-python",
   "name": "python",
   "nbconvert_exporter": "python",
   "pygments_lexer": "ipython3",
   "version": "3.9.18"
  }
 },
 "nbformat": 4,
 "nbformat_minor": 2
}
