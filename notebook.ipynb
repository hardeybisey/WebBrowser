{
 "cells": [
  {
   "cell_type": "code",
   "execution_count": 7,
   "metadata": {},
   "outputs": [],
   "source": [
    "from html_parser import HTMLParser\n",
    "from layout import Layout\n",
    "from browser import Browser"
   ]
  },
  {
   "cell_type": "code",
   "execution_count": null,
   "metadata": {},
   "outputs": [],
   "source": [
    "class Node:\n",
    "    def __init__(self, data):\n",
    "        self.data = data\n",
    "        self.next = None\n",
    "        self.prev = None\n",
    "            \n",
    "    def __repr__(self):\n",
    "        return f\"{self.data}\"\n",
    "\n",
    "\n",
    "class DoublyLinkedList:\n",
    "    def __init__(self):\n",
    "        self.head = None\n",
    "        self.tail = None\n",
    "        self.length = 0\n",
    "\n",
    "    def __repr__(self):\n",
    "        return str(self.__dict__)\n",
    "\n",
    "    def append(self, data):\n",
    "        new_node = Node(data)\n",
    "        if self.head is None:\n",
    "            self.head = new_node\n",
    "            self.tail = self.head\n",
    "        else:\n",
    "            self.tail.next = new_node\n",
    "            new_node.prev = self.tail\n",
    "            self.tail = new_node\n",
    "        self.length += 1\n",
    "        return self\n",
    "\n",
    "    def prepend(self, data):\n",
    "        new_node = Node(data)\n",
    "        new_node.next = self.head\n",
    "        self.head.prev = new_node\n",
    "        self.head = new_node\n",
    "        self.length += 1\n",
    "        return self\n",
    "\n",
    "    def pretty_print(self):\n",
    "        array = []\n",
    "        current_node = self.head\n",
    "        while current_node:\n",
    "            array.append(current_node)\n",
    "            current_node = current_node.next\n",
    "        return array\n",
    "\n",
    "    def traverse_list(self, index):\n",
    "        node = self.head\n",
    "        for i in range(index):\n",
    "            node = node.next\n",
    "        return node\n",
    "\n",
    "    def insert(self, index, data):\n",
    "        if index >= self.length:\n",
    "            return self.append(data)\n",
    "        if index == 0:\n",
    "            return self.prepend(data)\n",
    "        new_node = Node(data)\n",
    "        prev_node = self.traverse_list(index - 1)\n",
    "        move_node = prev_node.next\n",
    "        new_node.next = move_node  # configure the new node next pointer\n",
    "        new_node.prev = prev_node  # configure the new node previous pointer\n",
    "        prev_node.next = new_node\n",
    "        move_node.prev = new_node\n",
    "        self.length += 1\n",
    "        return self\n",
    "\n",
    "    # def remove(self, index):\n",
    "    #     if index >= self.length:\n",
    "    #         raise IndexError(\"list index out of range\")\n",
    "    #     if index == 0:\n",
    "    #         self.head = self.head.next\n",
    "    #         self.length -= 1\n",
    "    #         return self\n",
    "\n",
    "    #     prev_node = self.traverse_list(index - 1)\n",
    "    #     del_node = prev_node.next\n",
    "    #     prev_node.next = del_node.next\n",
    "    #     prev_node.prev = del_node.prev\n",
    "    #     self.length -= 1\n",
    "    #     return self\n",
    "\n",
    "linkedlist = DoublyLinkedList()\n",
    "linkedlist.append(10)\n",
    "linkedlist.append(5)\n",
    "linkedlist.append(16)\n",
    "linkedlist.prepend(1)\n",
    "linkedlist.insert(1, 6)\n",
    "# linkedlist.remove(3)\n",
    "# linkedlist.print_list()"
   ]
  },
  {
   "cell_type": "code",
   "execution_count": 8,
   "metadata": {},
   "outputs": [],
   "source": [
    "body = \"\"\"\n",
    "<!DOCTYPE html>\n",
    "<html>\n",
    "<head>\n",
    "    <title>Sample HTML</title>\n",
    "    <meta charset=\"UTF-8\">\n",
    "    <link rel=\"stylesheet\" href=\"style.css\" />\n",
    "</head>\n",
    "<body>\n",
    "    <h1>Welcome to Our Website</h1>\n",
    "    <a href=\"https://www.google.com\"> This is a link </a>\n",
    "    <p>This is a paragraph with some <i>italic text</i>.</p>\n",
    "    <img src=\"logo.png\" alt=\"Our Logo\" />\n",
    "    <br />\n",
    "    <input type=\"text\" placeholder=\"Enter your name\" />\n",
    "</body>\n",
    "</html>\n",
    "\"\"\""
   ]
  },
  {
   "cell_type": "code",
   "execution_count": 14,
   "metadata": {},
   "outputs": [],
   "source": [
    "browser = Browser()\n",
    "parser = HTMLParser(body)\n",
    "node = parser.parse()\n",
    "d_list = Layout(node).display_list"
   ]
  },
  {
   "cell_type": "code",
   "execution_count": 10,
   "metadata": {},
   "outputs": [
    {
     "data": {
      "text/plain": [
       "[(13, 21.0, 'Sample', <tkinter.font.Font at 0x7f9b176759a0>),\n",
       " (59, 21.0, 'HTML', <tkinter.font.Font at 0x7f9b176759a0>),\n",
       " (97, 21.0, 'Welcome', <tkinter.font.Font at 0x7f9b176759a0>),\n",
       " (154, 21.0, 'to', <tkinter.font.Font at 0x7f9b176759a0>),\n",
       " (170, 21.0, 'Our', <tkinter.font.Font at 0x7f9b176759a0>),\n",
       " (195, 21.0, 'Website', <tkinter.font.Font at 0x7f9b176759a0>),\n",
       " (246, 21.0, 'This', <tkinter.font.Font at 0x7f9b176759a0>),\n",
       " (274, 21.0, 'is', <tkinter.font.Font at 0x7f9b176759a0>),\n",
       " (288, 21.0, 'a', <tkinter.font.Font at 0x7f9b176759a0>),\n",
       " (299, 21.0, 'link', <tkinter.font.Font at 0x7f9b176759a0>),\n",
       " (323, 21.0, 'This', <tkinter.font.Font at 0x7f9b176759a0>),\n",
       " (351, 21.0, 'is', <tkinter.font.Font at 0x7f9b176759a0>),\n",
       " (365, 21.0, 'a', <tkinter.font.Font at 0x7f9b176759a0>),\n",
       " (376, 21.0, 'paragraph', <tkinter.font.Font at 0x7f9b176759a0>),\n",
       " (439, 21.0, 'with', <tkinter.font.Font at 0x7f9b176759a0>),\n",
       " (467, 21.0, 'some', <tkinter.font.Font at 0x7f9b176759a0>),\n",
       " (502, 21.0, 'italic', <tkinter.font.Font at 0x7f9b173a3d30>),\n",
       " (533, 21.0, 'text', <tkinter.font.Font at 0x7f9b173a3d30>)]"
      ]
     },
     "execution_count": 10,
     "metadata": {},
     "output_type": "execute_result"
    }
   ],
   "source": [
    "d_list"
   ]
  },
  {
   "cell_type": "code",
   "execution_count": null,
   "metadata": {},
   "outputs": [],
   "source": [
    "isinstance(b, Tag)"
   ]
  },
  {
   "cell_type": "code",
   "execution_count": 11,
   "metadata": {},
   "outputs": [],
   "source": [
    "def print_tree(node, indent=0):\n",
    "    print(\" \" * indent, node)\n",
    "    print(\" \" * indent, node.text)\n",
    "    # if node.close:\n",
    "    #     print_tree(node.close, indent-2)\n",
    "    # print(\" \" * indent, node.text)\n",
    "    if node.next:\n",
    "        if node.next.tag.startswith(\"/\"):\n",
    "            print_tree(node.next, indent-2)\n",
    "        else:\n",
    "            print_tree(node.next, indent+2)\n",
    "        # if \n",
    "        # print_tree(node.close, indent-2)\n",
    "        # if node.close:\n",
    "        #     print_tree(node.close, indent-2)"
   ]
  },
  {
   "cell_type": "code",
   "execution_count": 16,
   "metadata": {},
   "outputs": [
    {
     "name": "stdout",
     "output_type": "stream",
     "text": [
      " <html>\n",
      " \n",
      "   <head>\n",
      "   \n",
      "     <title>\n",
      "     Sample HTML\n",
      "   <//title>\n",
      "   \n",
      "     <meta />\n",
      "     \n",
      "       <link />\n",
      "       \n",
      "     <//head>\n",
      "     \n",
      "       <body>\n",
      "       \n",
      "         <h1>\n",
      "         Welcome to Our Website\n",
      "       <//h1>\n",
      "       \n",
      "         <a>\n",
      "          This is a link \n",
      "       <//a>\n",
      "       \n",
      "         <p>\n",
      "         This is a paragraph with some \n",
      "           <i>\n",
      "           italic text\n",
      "         <//i>\n",
      "         .\n",
      "       <//p>\n",
      "       \n",
      "         <img />\n",
      "         \n",
      "           <br />\n",
      "           \n",
      "             <input />\n",
      "             \n",
      "           <//body>\n",
      "           \n",
      "         <//html>\n",
      "         \n"
     ]
    }
   ],
   "source": [
    "print_tree(node)"
   ]
  },
  {
   "cell_type": "code",
   "execution_count": null,
   "metadata": {},
   "outputs": [],
   "source": [
    "nodes.next"
   ]
  },
  {
   "cell_type": "code",
   "execution_count": null,
   "metadata": {},
   "outputs": [],
   "source": [
    "for ch in nodes.children:    \n",
    "    # print_tree(ch)\n",
    "    print(ch)"
   ]
  },
  {
   "cell_type": "code",
   "execution_count": null,
   "metadata": {},
   "outputs": [],
   "source": [
    "print_tree(nodes)"
   ]
  },
  {
   "cell_type": "code",
   "execution_count": null,
   "metadata": {},
   "outputs": [],
   "source": []
  }
 ],
 "metadata": {
  "kernelspec": {
   "display_name": ".venv",
   "language": "python",
   "name": "python3"
  },
  "language_info": {
   "codemirror_mode": {
    "name": "ipython",
    "version": 3
   },
   "file_extension": ".py",
   "mimetype": "text/x-python",
   "name": "python",
   "nbconvert_exporter": "python",
   "pygments_lexer": "ipython3",
   "version": "3.9.18"
  }
 },
 "nbformat": 4,
 "nbformat_minor": 2
}
