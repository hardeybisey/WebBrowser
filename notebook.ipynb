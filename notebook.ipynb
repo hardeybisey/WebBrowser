{
 "cells": [
  {
   "cell_type": "code",
   "execution_count": 1,
   "metadata": {},
   "outputs": [],
   "source": [
    "\n",
    "from html_parser import HTMLParser\n",
    "from layout import DocumentLayout, paint_tree\n",
    "from browser import Browser\n",
    "from url import URL"
   ]
  },
  {
   "cell_type": "code",
   "execution_count": null,
   "metadata": {},
   "outputs": [],
   "source": [
    "class Node:\n",
    "    def __init__(self, data):\n",
    "        self.data = data\n",
    "        self.next = None\n",
    "        self.prev = None\n",
    "            \n",
    "    def __repr__(self):\n",
    "        return f\"{self.data}\"\n",
    "\n",
    "\n",
    "class DoublyLinkedList:\n",
    "    def __init__(self):\n",
    "        self.head = None\n",
    "        self.tail = None\n",
    "        self.length = 0\n",
    "\n",
    "    def __repr__(self):\n",
    "        return str(self.__dict__)\n",
    "\n",
    "    def append(self, data):\n",
    "        new_node = Node(data)\n",
    "        if self.head is None:\n",
    "            self.head = new_node\n",
    "            self.tail = self.head\n",
    "        else:\n",
    "            self.tail.next = new_node\n",
    "            new_node.prev = self.tail\n",
    "            self.tail = new_node\n",
    "        self.length += 1\n",
    "        return self\n",
    "\n",
    "    def prepend(self, data):\n",
    "        new_node = Node(data)\n",
    "        new_node.next = self.head\n",
    "        self.head.prev = new_node\n",
    "        self.head = new_node\n",
    "        self.length += 1\n",
    "        return self\n",
    "\n",
    "    def pretty_print(self):\n",
    "        array = []\n",
    "        current_node = self.head\n",
    "        while current_node:\n",
    "            array.append(current_node)\n",
    "            current_node = current_node.next\n",
    "        return array\n",
    "\n",
    "    def traverse_list(self, index):\n",
    "        node = self.head\n",
    "        for i in range(index):\n",
    "            node = node.next\n",
    "        return node\n",
    "\n",
    "    def insert(self, index, data):\n",
    "        if index >= self.length:\n",
    "            return self.append(data)\n",
    "        if index == 0:\n",
    "            return self.prepend(data)\n",
    "        new_node = Node(data)\n",
    "        prev_node = self.traverse_list(index - 1)\n",
    "        move_node = prev_node.next\n",
    "        new_node.next = move_node  # configure the new node next pointer\n",
    "        new_node.prev = prev_node  # configure the new node previous pointer\n",
    "        prev_node.next = new_node\n",
    "        move_node.prev = new_node\n",
    "        self.length += 1\n",
    "        return self\n",
    "\n",
    "    # def remove(self, index):\n",
    "    #     if index >= self.length:\n",
    "    #         raise IndexError(\"list index out of range\")\n",
    "    #     if index == 0:\n",
    "    #         self.head = self.head.next\n",
    "    #         self.length -= 1\n",
    "    #         return self\n",
    "\n",
    "    #     prev_node = self.traverse_list(index - 1)\n",
    "    #     del_node = prev_node.next\n",
    "    #     prev_node.next = del_node.next\n",
    "    #     prev_node.prev = del_node.prev\n",
    "    #     self.length -= 1\n",
    "    #     return self\n",
    "\n",
    "linkedlist = DoublyLinkedList()\n",
    "linkedlist.append(10)\n",
    "linkedlist.append(5)\n",
    "linkedlist.append(16)\n",
    "linkedlist.prepend(1)\n",
    "linkedlist.insert(1, 6)\n",
    "# linkedlist.remove(3)\n",
    "# linkedlist.print_list()"
   ]
  },
  {
   "cell_type": "code",
   "execution_count": 49,
   "metadata": {},
   "outputs": [],
   "source": [
    "body = \"\"\"\n",
    "<!DOCTYPE html>\n",
    "<html>\n",
    "<head>\n",
    "    <title>Sample HTML</title>\n",
    "    <meta charset=\"UTF-8\">\n",
    "    <link rel=\"stylesheet\" href=\"style.css\" />\n",
    "</head>\n",
    "<body\n",
    "    <style  >\n",
    "    <h1>Welcome to Our Website</h1>\n",
    "    <a href=\"https://www.google.com\"> This is a link </a>\n",
    "    <p>This is a paragraph with some <i>italic text</i>.</p>\n",
    "    <img src=\"logo.png\" alt=\"Our Logo\" />\n",
    "    <br />\n",
    "    <div> This is a div </div>\n",
    "    <div> This is another div </div>\n",
    "    <input type=\"text\" placeholder=\"Enter your name\" />\n",
    "</body>\n",
    "</html>\n",
    "\"\"\""
   ]
  },
  {
   "cell_type": "code",
   "execution_count": 50,
   "metadata": {},
   "outputs": [],
   "source": [
    "# url1 = \"file:///Users/hardey/Desktop/WebBrowser\"\n",
    "# url = \"https://browser.engineering/html.html\"\n",
    "\n",
    "# body = URL(url).request()\n",
    "# body2 = URL(url2) \n",
    "# body2.request()\n",
    "browser = Browser()\n",
    "parser = HTMLParser(body)\n",
    "node = parser.parse()\n",
    "d = DocumentLayout(node)\n",
    "d.layout()"
   ]
  },
  {
   "cell_type": "code",
   "execution_count": 36,
   "metadata": {},
   "outputs": [],
   "source": [
    "c = [child for child in d.children]"
   ]
  },
  {
   "cell_type": "code",
   "execution_count": 47,
   "metadata": {},
   "outputs": [
    {
     "name": "stdout",
     "output_type": "stream",
     "text": [
      "{'charset': 'utf-8', '/': ''}\n",
      "{'rel': 'prefetch', 'href': 'https://fonts.gstatic.com/s/lora/v32/0QI6MX1D_JOuGQbT0gvTJPa787weuxJBkq0.woff2', 'as': 'font', 'type': 'font/woff2'}\n",
      "{'rel': 'prefetch', 'href': 'https://fonts.gstatic.com/s/vollkorn/v22/0ybgGDoxxrvAnPhYGzMlQLzuMasz6Df2MHGeHmmc.woff2', 'as': 'font', 'type': 'font/woff2'}\n",
      "{'rel': 'prefetch', 'href': 'https://fonts.gstatic.com/s/vollkorn/v22/0ybuGDoxxrvAnPhYGxksckM2WMCpRjDj-DJGWlmeObQ.woff2', 'as': 'font', 'type': 'font/woff2'}\n",
      "{'rel': 'prefetch', 'href': 'https://fonts.gstatic.com/s/lora/v32/0QI8MX1D_JOuMw_hLdO6T2wV9KnW-MoFoq92nA.woff2', 'as': 'font', 'type': 'font/woff2'}\n",
      "{'rel': 'prefetch', 'href': 'https://fonts.gstatic.com/s/spectral/v5/rnCr-xNNww_2s0amA9M5knjsS_ul.woff2', 'as': 'font', 'type': 'font/woff2'}\n",
      "{'name': 'color-scheme', 'content': 'dar', 'light\"': ''}\n",
      "{'name': 'generator', 'content': 'pandoc', '/': ''}\n",
      "{'name': 'viewport', 'content': 'width=device-width,initial-scale=1.0,user-scalable=yes', '/': ''}\n",
      "{'rel': 'prev', 'href': 'text.html', '/': ''}\n",
      "{'rel': 'next', 'href': 'layout.html', '/': ''}\n",
      "{'rel': 'stylesheet', 'href': 'book.css', '/': ''}\n",
      "{'rel': 'stylesheet', 'href': 'https://fonts.googleapis.com/css?family=Vollkorn%7CLora&display=swap', '/': ''}\n",
      "{'rel': 'stylesheet', 'href': 'https://fonts.googleapis.com/css?family=Vollkorn:400i%7CLora:400i&display=swap', '/': ''}\n",
      "{'rel': 'alternate', 'type': 'application/rss+xml', 'href': 'rss.xml', 'title': 'We', 'browser': '', 'engineering\"': ''}\n",
      "{}\n",
      "{}\n"
     ]
    }
   ],
   "source": [
    "for child in c[0].children[0].__dict__[\"node\"].children:\n",
    "    print(child.attributes)"
   ]
  },
  {
   "cell_type": "code",
   "execution_count": 30,
   "metadata": {},
   "outputs": [
    {
     "ename": "SyntaxError",
     "evalue": "invalid syntax (4063337083.py, line 22)",
     "output_type": "error",
     "traceback": [
      "\u001b[0;36m  Cell \u001b[0;32mIn[30], line 22\u001b[0;36m\u001b[0m\n\u001b[0;31m    def\u001b[0m\n\u001b[0m        ^\u001b[0m\n\u001b[0;31mSyntaxError\u001b[0m\u001b[0;31m:\u001b[0m invalid syntax\n"
     ]
    }
   ],
   "source": [
    "class CSSParser:\n",
    "    def __init__(self, text):\n",
    "        self.text = text\n",
    "        self.index = 0\n",
    "\n",
    "    def white_space(self):\n",
    "        while self.index < len(self.text) and self.text[self.index].isspace():\n",
    "            self.index += 1\n",
    "            \n",
    "    def word(self):\n",
    "        start = self.index\n",
    "        while self.index < len(self.text):\n",
    "            current = self.text[self.index]\n",
    "            if current.isalnum() or current in \"#-.%\":\n",
    "                self.index += 1\n",
    "            else:\n",
    "                break\n",
    "        if not (self.index > start):\n",
    "            raise Exception(\"Word parsing Error\")\n",
    "        return self.text[start:self.index]\n",
    "    \n",
    "    def literal(self, value):\n",
    "        if not (self.index < len(self.text) and self.text[self.index] == value):\n",
    "            raise Exception(f\"Literal parsing Error\")\n",
    "        self.index += 1\n",
    "    "
   ]
  },
  {
   "cell_type": "code",
   "execution_count": 52,
   "metadata": {},
   "outputs": [],
   "source": [
    "w = CSSParser(\"color: red; font-size: 16px; background-color: blue;\")"
   ]
  },
  {
   "cell_type": "code",
   "execution_count": 53,
   "metadata": {},
   "outputs": [
    {
     "ename": "AttributeError",
     "evalue": "'CSSParser' object has no attribute 'literal'",
     "output_type": "error",
     "traceback": [
      "\u001b[0;31m---------------------------------------------------------------------------\u001b[0m",
      "\u001b[0;31mAttributeError\u001b[0m                            Traceback (most recent call last)",
      "Cell \u001b[0;32mIn[53], line 2\u001b[0m\n\u001b[1;32m      1\u001b[0m w\u001b[38;5;241m.\u001b[39mword()\n\u001b[0;32m----> 2\u001b[0m \u001b[43mw\u001b[49m\u001b[38;5;241;43m.\u001b[39;49m\u001b[43mliteral\u001b[49m(\u001b[38;5;124m\"\u001b[39m\u001b[38;5;124m:\u001b[39m\u001b[38;5;124m\"\u001b[39m)\n\u001b[1;32m      3\u001b[0m w\u001b[38;5;241m.\u001b[39mwhite_space()\n\u001b[1;32m      4\u001b[0m w\u001b[38;5;241m.\u001b[39mliteral(\u001b[38;5;124m\"\u001b[39m\u001b[38;5;124m;\u001b[39m\u001b[38;5;124m\"\u001b[39m)\n",
      "\u001b[0;31mAttributeError\u001b[0m: 'CSSParser' object has no attribute 'literal'"
     ]
    }
   ],
   "source": [
    "\n",
    "w.word()\n",
    "w.literal(\":\")\n",
    "w.white_space()\n",
    "w.literal(\";\")\n",
    "w.white_space()"
   ]
  },
  {
   "cell_type": "code",
   "execution_count": 25,
   "metadata": {},
   "outputs": [],
   "source": []
  },
  {
   "cell_type": "code",
   "execution_count": 28,
   "metadata": {},
   "outputs": [
    {
     "data": {
      "text/plain": [
       "{'text': 'color: red; font-size: 16px; background-color: blue;', 'index': 5}"
      ]
     },
     "execution_count": 28,
     "metadata": {},
     "output_type": "execute_result"
    }
   ],
   "source": [
    "w.__dict__"
   ]
  },
  {
   "cell_type": "code",
   "execution_count": null,
   "metadata": {},
   "outputs": [],
   "source": []
  }
 ],
 "metadata": {
  "kernelspec": {
   "display_name": ".venv",
   "language": "python",
   "name": "python3"
  },
  "language_info": {
   "codemirror_mode": {
    "name": "ipython",
    "version": 3
   },
   "file_extension": ".py",
   "mimetype": "text/x-python",
   "name": "python",
   "nbconvert_exporter": "python",
   "pygments_lexer": "ipython3",
   "version": "3.9.18"
  }
 },
 "nbformat": 4,
 "nbformat_minor": 2
}
